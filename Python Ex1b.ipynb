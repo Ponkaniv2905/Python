{
 "cells": [
  {
   "cell_type": "code",
   "execution_count": 4,
   "id": "65214006",
   "metadata": {},
   "outputs": [],
   "source": [
    "def factorial(num):\n",
    "    fact=1\n",
    "    if num<0:\n",
    "        print(\"Negative number\")\n",
    "    elif num ==0:\n",
    "        print(\"Factorial: 1\")\n",
    "    else:\n",
    "        for i in range(1,num+1):\n",
    "            fact=fact*i\n",
    "    print(\"Factorial:\",fact)"
   ]
  },
  {
   "cell_type": "code",
   "execution_count": 6,
   "id": "a571eb98",
   "metadata": {},
   "outputs": [
    {
     "name": "stdout",
     "output_type": "stream",
     "text": [
      "Enter the Number:5\n",
      "Factorial: 120\n"
     ]
    }
   ],
   "source": [
    "no=int(input(\"Enter the Number:\"))\n",
    "factorial(no)"
   ]
  },
  {
   "cell_type": "markdown",
   "id": "44359567",
   "metadata": {},
   "source": [
    "# Without Function"
   ]
  },
  {
   "cell_type": "code",
   "execution_count": 15,
   "id": "1b1dba7a",
   "metadata": {},
   "outputs": [
    {
     "name": "stdout",
     "output_type": "stream",
     "text": [
      "Enter the Number:5\n",
      "Factorial: 120\n"
     ]
    }
   ],
   "source": [
    "num=int(input(\"Enter the Number:\"))\n",
    "fact=1\n",
    "if num<0:\n",
    "    print(\"Negative number\")\n",
    "elif num ==0:\n",
    "    print(\"Factorial: 1\")\n",
    "else:\n",
    "    for i in range(1,num+1):\n",
    "        fact=fact*i\n",
    "    print(\"Factorial:\",fact)"
   ]
  },
  {
   "cell_type": "code",
   "execution_count": null,
   "id": "5fdfc6af",
   "metadata": {},
   "outputs": [],
   "source": []
  }
 ],
 "metadata": {
  "kernelspec": {
   "display_name": "Python 3",
   "language": "python",
   "name": "python3"
  },
  "language_info": {
   "codemirror_mode": {
    "name": "ipython",
    "version": 3
   },
   "file_extension": ".py",
   "mimetype": "text/x-python",
   "name": "python",
   "nbconvert_exporter": "python",
   "pygments_lexer": "ipython3",
   "version": "3.8.8"
  }
 },
 "nbformat": 4,
 "nbformat_minor": 5
}
