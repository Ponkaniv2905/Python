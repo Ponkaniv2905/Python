{
 "cells": [
  {
   "cell_type": "code",
   "execution_count": 1,
   "id": "53186d68",
   "metadata": {},
   "outputs": [],
   "source": [
    "student={}"
   ]
  },
  {
   "cell_type": "code",
   "execution_count": 42,
   "id": "3a3adfe4",
   "metadata": {},
   "outputs": [],
   "source": [
    "student={\"name\":\"NaveenV\",\"age\":23,\"department\":\"MBA\"}"
   ]
  },
  {
   "cell_type": "code",
   "execution_count": 43,
   "id": "a92ca57d",
   "metadata": {},
   "outputs": [],
   "source": [
    "student[\"marks\"]= 95,96,97,98,99"
   ]
  },
  {
   "cell_type": "code",
   "execution_count": 44,
   "id": "c6bbf650",
   "metadata": {},
   "outputs": [],
   "source": [
    "student[\"age\"]:22"
   ]
  },
  {
   "cell_type": "code",
   "execution_count": 45,
   "id": "9d973c9f",
   "metadata": {},
   "outputs": [],
   "source": [
    "del student[\"age\"]"
   ]
  },
  {
   "cell_type": "code",
   "execution_count": 46,
   "id": "0af318a0",
   "metadata": {},
   "outputs": [
    {
     "data": {
      "text/plain": [
       "{'name': 'NaveenV', 'department': 'MBA', 'marks': (95, 96, 97, 98, 99)}"
      ]
     },
     "execution_count": 46,
     "metadata": {},
     "output_type": "execute_result"
    }
   ],
   "source": [
    "student"
   ]
  },
  {
   "cell_type": "code",
   "execution_count": 47,
   "id": "fd609929",
   "metadata": {},
   "outputs": [
    {
     "name": "stdout",
     "output_type": "stream",
     "text": [
      "name\n",
      "department\n",
      "marks\n"
     ]
    }
   ],
   "source": [
    "for x in student:\n",
    "    print (x)"
   ]
  },
  {
   "cell_type": "code",
   "execution_count": 48,
   "id": "df67b814",
   "metadata": {},
   "outputs": [
    {
     "name": "stdout",
     "output_type": "stream",
     "text": [
      "NaveenV\n",
      "MBA\n",
      "(95, 96, 97, 98, 99)\n"
     ]
    }
   ],
   "source": [
    "for x in student.values():\n",
    "    print(x)"
   ]
  },
  {
   "cell_type": "code",
   "execution_count": 49,
   "id": "5c30b2ca",
   "metadata": {},
   "outputs": [
    {
     "name": "stdout",
     "output_type": "stream",
     "text": [
      "('name', 'NaveenV')\n",
      "('department', 'MBA')\n",
      "('marks', (95, 96, 97, 98, 99))\n"
     ]
    }
   ],
   "source": [
    "for x in student.items():\n",
    "    print(x)"
   ]
  },
  {
   "cell_type": "code",
   "execution_count": 50,
   "id": "e8ec0cbd",
   "metadata": {},
   "outputs": [],
   "source": [
    "del student\n"
   ]
  },
  {
   "cell_type": "code",
   "execution_count": 51,
   "id": "b62674b6",
   "metadata": {},
   "outputs": [
    {
     "ename": "NameError",
     "evalue": "name 'student' is not defined",
     "output_type": "error",
     "traceback": [
      "\u001b[1;31m---------------------------------------------------------------------------\u001b[0m",
      "\u001b[1;31mNameError\u001b[0m                                 Traceback (most recent call last)",
      "\u001b[1;32m<ipython-input-51-98eabfd95b2a>\u001b[0m in \u001b[0;36m<module>\u001b[1;34m\u001b[0m\n\u001b[1;32m----> 1\u001b[1;33m \u001b[0mstudent\u001b[0m\u001b[1;33m\u001b[0m\u001b[1;33m\u001b[0m\u001b[0m\n\u001b[0m",
      "\u001b[1;31mNameError\u001b[0m: name 'student' is not defined"
     ]
    }
   ],
   "source": [
    "student"
   ]
  },
  {
   "cell_type": "code",
   "execution_count": null,
   "id": "8948388b",
   "metadata": {},
   "outputs": [],
   "source": []
  }
 ],
 "metadata": {
  "kernelspec": {
   "display_name": "Python 3",
   "language": "python",
   "name": "python3"
  },
  "language_info": {
   "codemirror_mode": {
    "name": "ipython",
    "version": 3
   },
   "file_extension": ".py",
   "mimetype": "text/x-python",
   "name": "python",
   "nbconvert_exporter": "python",
   "pygments_lexer": "ipython3",
   "version": "3.8.8"
  }
 },
 "nbformat": 4,
 "nbformat_minor": 5
}
