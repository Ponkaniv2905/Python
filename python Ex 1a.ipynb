{
 "cells": [
  {
   "cell_type": "code",
   "execution_count": 1,
   "id": "32b7a159",
   "metadata": {},
   "outputs": [],
   "source": [
    "def addition(a,b):\n",
    "    return a+b"
   ]
  },
  {
   "cell_type": "code",
   "execution_count": 2,
   "id": "5f21831a",
   "metadata": {},
   "outputs": [],
   "source": [
    "def subtraction(a,b):\n",
    "    return a-b"
   ]
  },
  {
   "cell_type": "code",
   "execution_count": 3,
   "id": "cab38b33",
   "metadata": {},
   "outputs": [],
   "source": [
    "def multiplication(a,b):\n",
    "    return a*b"
   ]
  },
  {
   "cell_type": "code",
   "execution_count": 4,
   "id": "cb9b53e5",
   "metadata": {},
   "outputs": [],
   "source": [
    "def division(a,b):\n",
    "    return a/b"
   ]
  },
  {
   "cell_type": "code",
   "execution_count": 5,
   "id": "97676f93",
   "metadata": {},
   "outputs": [
    {
     "name": "stdout",
     "output_type": "stream",
     "text": [
      "Type a for Addition\n",
      "Type s for Subtraction\n",
      "Type m for Multiplication\n",
      "Type d for Division\n"
     ]
    }
   ],
   "source": [
    "print(\"Type a for Addition\\nType s for Subtraction\\nType m for Multiplication\\nType d for Division\")"
   ]
  },
  {
   "cell_type": "code",
   "execution_count": 6,
   "id": "abd9a6fe",
   "metadata": {},
   "outputs": [
    {
     "name": "stdout",
     "output_type": "stream",
     "text": [
      "Select the Operation : a\n",
      "Enter the 1st Number:5\n",
      "Enter the 2nd Number:6\n",
      "Addition: 11\n"
     ]
    }
   ],
   "source": [
    "choice = input(\"Select the Operation : \")\n",
    "a=int(input(\"Enter the 1st Number:\"))\n",
    "b=int(input(\"Enter the 2nd Number:\"))\n",
    "if choice==\"a\":\n",
    "    print(\"Addition:\",addition(a,b))\n",
    "elif choice==\"s\":\n",
    "    print(\"Subtraction:\",subtraction(a,b))\n",
    "elif choice=='m':\n",
    "    print(\"Multiplication:\",multiplication(a,b))\n",
    "elif choice=='d':\n",
    "    print(\"Division:\",division(a,b))\n",
    "else:\n",
    "    print(\"Invalid Choice\")"
   ]
  }
 ],
 "metadata": {
  "kernelspec": {
   "display_name": "Python 3",
   "language": "python",
   "name": "python3"
  },
  "language_info": {
   "codemirror_mode": {
    "name": "ipython",
    "version": 3
   },
   "file_extension": ".py",
   "mimetype": "text/x-python",
   "name": "python",
   "nbconvert_exporter": "python",
   "pygments_lexer": "ipython3",
   "version": "3.8.8"
  }
 },
 "nbformat": 4,
 "nbformat_minor": 5
}
